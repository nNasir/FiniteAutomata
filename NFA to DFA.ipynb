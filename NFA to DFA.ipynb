{
 "cells": [
  {
   "cell_type": "code",
   "execution_count": 2,
   "metadata": {},
   "outputs": [],
   "source": [
    "import numpy as np\n",
    "import pandas as pd"
   ]
  },
  {
   "cell_type": "code",
   "execution_count": 6,
   "metadata": {},
   "outputs": [
    {
     "name": "stdout",
     "output_type": "stream",
     "text": [
      "Given NFA\n",
      "        input_0 input_1  isInitial  isFinal\n",
      "states                                    \n",
      "A       (B, A)     (A)       True    False\n",
      "B           ()     (C)      False    False\n",
      "C          (D)      ()      False    False\n",
      "D           ()     (D)      False     True\n",
      "inital Stated of NFA= A\n",
      "final states:  {'D'}\n",
      "symbols:  ['input_0', 'input_1']\n"
     ]
    }
   ],
   "source": [
    "# read NFA from csv\n",
    "inputFile= \"C:/Users/Admin/Desktop/FA CSV input files/NFA.csv\"\n",
    "NFA = pd.read_csv(inputFile, index_col=\"states\",dtype='str') \n",
    "\n",
    "\n",
    "# convert data to appropriate type (using frozen set for states as they are hashable and can be used as index)\n",
    "NFA.isInitial = NFA[\"isInitial\"].map({'FALSE':False, 'TRUE':True}) # bool\n",
    "#NFA.index = [frozenset(x) for x in NFA.index] # bool\n",
    "NFA.isFinal = NFA[\"isFinal\"].map({'FALSE':False, 'TRUE':True}) # bool\n",
    "# convert string transitions to sets.\n",
    "for s in [x for x in list(NFA.columns) if x.find(\"input\")!=-1]: \n",
    "    NFA[s]=[frozenset(x.split(\",\")) if x==x else frozenset() for x in NFA[s]]\n",
    "\n",
    "\n",
    "print(\"Given NFA\\n\",NFA)\n",
    "q0= NFA.loc[NFA[\"isInitial\"]==True].index.values[0]\n",
    "print(\"inital Stated of NFA=\",q0)\n",
    "finalStates=set(NFA.loc[NFA[\"isFinal\"]==True].index.values.tolist())\n",
    "print(\"final states: \", finalStates)\n",
    "symbols= [x for x in list(NFA.columns) if x.find(\"input\")!=-1]\n",
    "print(\"symbols: \", symbols)\n",
    "\n"
   ]
  },
  {
   "cell_type": "code",
   "execution_count": 4,
   "metadata": {},
   "outputs": [],
   "source": [
    "# initialize dataframe for DFA\n",
    "# add initial state of DFA (=q0 of NFA)\n",
    "# keeping a marker  \"added\" in DFA to check transitions for which states have been \n",
    "DFA= pd.DataFrame(index= [frozenset([q0])],columns= list(NFA.columns)+[\"added\"])\n",
    "DFA.loc[frozenset([q0]), \"isInitial\"]= True\n",
    "\n",
    "# for all states, fill transitions. If new states is reached add it in DFA table\n",
    "while (DFA[DFA['added'].isnull()].shape[0]>0):\n",
    "    \n",
    "    currentstate= DFA[DFA['added'].isnull()].head(1).index.values[0] # get 1 state from table for which tran as not defined yet\n",
    "    \n",
    "    if len(set.intersection(set(currentstate),set(finalStates)))>0 : # check if this state can be final state\n",
    "        DFA.loc[currentstate, \"isFinal\"]= True\n",
    "        \n",
    "    \n",
    "    for s in symbols: # for all inputs define the transition of current state \n",
    "        desS= frozenset.union(* [ NFA.loc[x,s] for x in currentstate] )       \n",
    "        DFA.loc[currentstate,s]=desS        \n",
    "        \n",
    "        if desS not in DFA.index.values: # if a new state is reached add it to the DFA table\n",
    "            DFA= DFA.append(pd.DataFrame(index= [frozenset(desS)],columns= list(DFA.columns)))\n",
    "            \n",
    "    DFA.loc[currentstate, \"added\" ]= True # toggle the marker to show that the trans have been defined for this state \n",
    "    \n",
    "DFA = DFA.drop('added', 1)   # discarding the marker column\n",
    "    "
   ]
  },
  {
   "cell_type": "code",
   "execution_count": 5,
   "metadata": {},
   "outputs": [
    {
     "name": "stdout",
     "output_type": "stream",
     "text": [
      "Given NFA \n",
      "        input_0 input_1  isInitial  isFinal\n",
      "states                                    \n",
      "A       (B, A)     (A)       True    False\n",
      "B           ()     (C)      False    False\n",
      "C          (D)      ()      False    False\n",
      "D           ()     (D)      False     True\n",
      "\n",
      "\n",
      " Corresponding DFA \n",
      "              input_0    input_1 isInitial isFinal\n",
      "(A)           (B, A)        (A)      True     NaN\n",
      "(B, A)        (B, A)     (A, C)       NaN     NaN\n",
      "(A, C)     (D, B, A)        (A)       NaN     NaN\n",
      "(D, B, A)     (B, A)  (D, A, C)       NaN    True\n",
      "(D, A, C)  (D, B, A)     (D, A)       NaN    True\n",
      "(D, A)        (B, A)     (D, A)       NaN    True\n"
     ]
    }
   ],
   "source": [
    "print(\"Given NFA \\n\",NFA)\n",
    "print(\"\\n\\n Corresponding DFA \\n\", DFA)"
   ]
  },
  {
   "cell_type": "code",
   "execution_count": null,
   "metadata": {},
   "outputs": [],
   "source": []
  }
 ],
 "metadata": {
  "kernelspec": {
   "display_name": "Python 3",
   "language": "python",
   "name": "python3"
  },
  "language_info": {
   "codemirror_mode": {
    "name": "ipython",
    "version": 3
   },
   "file_extension": ".py",
   "mimetype": "text/x-python",
   "name": "python",
   "nbconvert_exporter": "python",
   "pygments_lexer": "ipython3",
   "version": "3.5.2"
  }
 },
 "nbformat": 4,
 "nbformat_minor": 2
}
