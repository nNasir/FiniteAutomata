{
 "cells": [
  {
   "cell_type": "code",
   "execution_count": 153,
   "metadata": {},
   "outputs": [],
   "source": [
    "import pandas as pd\n",
    "null=\"\\u03bb\""
   ]
  },
  {
   "cell_type": "code",
   "execution_count": 283,
   "metadata": {
    "scrolled": true
   },
   "outputs": [
    {
     "name": "stdout",
     "output_type": "stream",
     "text": [
      "       input_a input_b isInitial isFinal\n",
      "states                                  \n",
      "1            2       2      TRUE    TRUE\n",
      "2            3       4     FALSE    TRUE\n",
      "3          NaN     NaN     FALSE    TRUE\n",
      "4            2     NaN     FALSE   FALSE\n",
      "inital Stated of NFA= 1\n",
      "final states:  {'3', '2', '1'}\n",
      "symbols:  ['input_a', 'input_b']\n",
      "States ['1', '2', '3', '4']\n"
     ]
    }
   ],
   "source": [
    "# reading DFA from file\n",
    "inputFile=\"C:/Users/Admin/Desktop/FA CSV input files/DFA8.csv\"\n",
    "DFA = pd.read_csv(inputFile, index_col=\"states\", dtype=\"str\") \n",
    "DFA.index = DFA.index.map(str)\n",
    "print(DFA)\n",
    "\n",
    "\n",
    "# convert data to appropriate type (using frozen set for states as they are hashable and can be used as index)\n",
    "DFA.isInitial = DFA[\"isInitial\"].map({'FALSE':False, 'TRUE':True}) # bool\n",
    "#NFA.index = [frozenset(x) for x in NFA.index] # bool\n",
    "DFA.isFinal = DFA[\"isFinal\"].map({'FALSE':False, 'TRUE':True}) # bool\n",
    "\n",
    "# find final states, intial state  and symbols \n",
    "q0= DFA.loc[DFA[\"isInitial\"]==True].index.values[0]\n",
    "print(\"inital Stated of NFA=\",q0)\n",
    "finalStates=set(DFA.loc[DFA[\"isFinal\"]==True].index.values.tolist())\n",
    "print(\"final states: \", finalStates)\n",
    "symbols= [x for x in list(DFA.columns) if x.find(\"input\")!=-1]\n",
    "print(\"symbols: \", symbols)\n",
    "states= DFA.index.values.tolist()\n",
    "print(\"States\", states)\n",
    "\n"
   ]
  },
  {
   "cell_type": "code",
   "execution_count": 280,
   "metadata": {},
   "outputs": [
    {
     "name": "stdout",
     "output_type": "stream",
     "text": [
      "      1        2    3    4   NI   NF\n",
      "1   NaN  (b + a)  NaN  NaN  NaN    λ\n",
      "2   NaN      NaN    a    b  NaN    λ\n",
      "3   NaN      NaN  NaN  NaN  NaN    λ\n",
      "4   NaN        a  NaN  NaN  NaN  NaN\n",
      "NI    λ      NaN  NaN  NaN  NaN  NaN\n",
      "NF  NaN      NaN  NaN  NaN  NaN  NaN\n"
     ]
    }
   ],
   "source": [
    "# create table to store transitions between each pair of state\n",
    "table= pd.DataFrame(index=states+[\"NI\",\"NF\"], columns=states+[\"NI\",\"NF\"])\n",
    "\n",
    "# add tran(NI,null)=q0 and tran(finalstates, null)=NF\n",
    "table.loc[\"NI\",q0]= null\n",
    "table.loc[finalStates,\"NF\"]= null\n",
    "\n",
    "\n",
    "# add the intitial transitions from given DFA to table\n",
    "for x in states: # sourse\n",
    "    for s in symbols: # symbol\n",
    "        if DFA.loc[x, s]==DFA.loc[x, s]:  #destination if not nan\n",
    "            if table.loc[x,DFA.loc[x, s]]==table.loc[x,DFA.loc[x, s]]: #initially table location is not nan\n",
    "                # add this transition to prevous transition (union) with brackets\n",
    "                table.loc[x,DFA.loc[x, s]]= \"(\" + s.replace(\"input_\",\"\") + \" + \"+table.loc[x,DFA.loc[x, s]]+\")\"\n",
    "            else:\n",
    "                table.loc[x,DFA.loc[x, s] ]= s.replace(\"input_\",\"\")           \n",
    "print(table)\n",
    "\n",
    "\n",
    "       \n",
    "            "
   ]
  },
  {
   "cell_type": "code",
   "execution_count": 281,
   "metadata": {},
   "outputs": [
    {
     "name": "stdout",
     "output_type": "stream",
     "text": [
      "Eliminating state  1\n",
      "loop on state 1 -NA-\n",
      "outward transitions ['2', 'NF']\n",
      "inward transitions ['NI']\n",
      "transition from  NI to 2 through 1 is λ(b + a) as \n",
      "  RE from  NI to 1 is  λ \n",
      "  RE of loop is  -NA- \n",
      "  RE from  1 to 2 is  (b + a) \n",
      "  old RE from  NI to 2 is  -NA-\n",
      "transition from  NI to NF through 1 is λλ as \n",
      "  RE from  NI to 1 is  λ \n",
      "  RE of loop is  -NA- \n",
      "  RE from  1 to NF is  λ \n",
      "  old RE from  NI to NF is  -NA-\n",
      "Eliminating state  2\n",
      "loop on state 2 -NA-\n",
      "outward transitions ['3', '4', 'NF']\n",
      "inward transitions ['4', 'NI']\n",
      "transition from  4 to 3 through 2 is aa as \n",
      "  RE from  4 to 2 is  a \n",
      "  RE of loop is  -NA- \n",
      "  RE from  2 to 3 is  a \n",
      "  old RE from  4 to 3 is  -NA-\n",
      "transition from  4 to 4 through 2 is ab as \n",
      "  RE from  4 to 2 is  a \n",
      "  RE of loop is  -NA- \n",
      "  RE from  2 to 4 is  b \n",
      "  old RE from  4 to 4 is  -NA-\n",
      "transition from  4 to NF through 2 is aλ as \n",
      "  RE from  4 to 2 is  a \n",
      "  RE of loop is  -NA- \n",
      "  RE from  2 to NF is  λ \n",
      "  old RE from  4 to NF is  -NA-\n",
      "transition from  NI to 3 through 2 is (b + a)a as \n",
      "  RE from  NI to 2 is  (b + a) \n",
      "  RE of loop is  -NA- \n",
      "  RE from  2 to 3 is  a \n",
      "  old RE from  NI to 3 is  -NA-\n",
      "transition from  NI to 4 through 2 is (b + a)b as \n",
      "  RE from  NI to 2 is  (b + a) \n",
      "  RE of loop is  -NA- \n",
      "  RE from  2 to 4 is  b \n",
      "  old RE from  NI to 4 is  -NA-\n",
      "transition from  NI to NF through 2 is (b + a)λ + λ as \n",
      "  RE from  NI to 2 is  (b + a) \n",
      "  RE of loop is  -NA- \n",
      "  RE from  2 to NF is  λ \n",
      "  old RE from  NI to NF is  λ\n",
      "Eliminating state  3\n",
      "loop on state 3 -NA-\n",
      "outward transitions ['NF']\n",
      "inward transitions ['4', 'NI']\n",
      "transition from  4 to NF through 3 is aaλ + a as \n",
      "  RE from  4 to 3 is  aa \n",
      "  RE of loop is  -NA- \n",
      "  RE from  3 to NF is  λ \n",
      "  old RE from  4 to NF is  a\n",
      "transition from  NI to NF through 3 is (b + a)aλ + (b + a) + λ as \n",
      "  RE from  NI to 3 is  (b + a)a \n",
      "  RE of loop is  -NA- \n",
      "  RE from  3 to NF is  λ \n",
      "  old RE from  NI to NF is  (b + a) + λ\n",
      "Eliminating state  4\n",
      "loop on state 4 (ab)*\n",
      "outward transitions ['NF']\n",
      "inward transitions ['NI']\n",
      "transition from  NI to NF through 4 is (b + a)b(ab)*aa + a + (b + a)a + (b + a) + λ as \n",
      "  RE from  NI to 4 is  (b + a)b \n",
      "  RE of loop is  (ab)* \n",
      "  RE from  4 to NF is  aa + a \n",
      "  old RE from  NI to NF is  (b + a)a + (b + a) + λ\n"
     ]
    },
    {
     "name": "stderr",
     "output_type": "stream",
     "text": [
      "c:\\python35\\lib\\site-packages\\pandas\\core\\indexing.py:1020: FutureWarning: \n",
      "Passing list-likes to .loc or [] with any missing label will raise\n",
      "KeyError in the future, you can use .reindex() as an alternative.\n",
      "\n",
      "See the documentation here:\n",
      "http://pandas.pydata.org/pandas-docs/stable/indexing.html#deprecate-loc-reindex-listlike\n",
      "  return getattr(section, self.name)[new_key]\n"
     ]
    }
   ],
   "source": [
    "\n",
    "# eliminate states one by one\n",
    "# states will be elimiated in order of their occurance in DFA index\n",
    "for x in states:\n",
    "    print(\"Eliminating state \",x)\n",
    "    \n",
    "    loop= \"(\"+table.loc[x,x] +\")*\" if table.loc[x,x]==table.loc[x,x] else \"\"     \n",
    "    outward=[y for y in table.loc[(table.loc[x].isna()==False)].index.values if y!=x]\n",
    "    inward=[y for y in table.loc[table.loc[states+[\"NI\",\"NF\"],x].isna()==False].index.values if y!=x]\n",
    "    print(\"loop on state\", x, (loop if loop!=\"\" else \"-NA-\"))\n",
    "    \n",
    "    print(\"outward transitions\",outward)\n",
    "    print(\"inward transitions\",inward)\n",
    "    \n",
    "    for i in inward:\n",
    "        for o in outward:\n",
    "            \n",
    "            \n",
    "            \n",
    "            REin= (table.loc[i,x] if table.loc[i,x]==table.loc[i,x] else \"\")\n",
    "            REout=(table.loc[x,o] if table.loc[x,o]==table.loc[x,o] else \"\")\n",
    "            REold=(table.loc[i,o] if table.loc[i,o]==table.loc[i,o] else \"\")\n",
    "            \n",
    "            print(\"transition from \",i,\"to\", o, \"through\", x, \"is\", REin + loop + REout  +(\" + \"+ REold if REold!=\"\" else \"\")\n",
    "                                                                                           ,\"as\",\n",
    "                  \"\\n  RE from \", i , \"to\", x, \"is \",(REin if REin!=\"\" else \"-NA-\"),\n",
    "                  \"\\n  RE of loop is \", (loop if loop!=\"\" else \"-NA-\") , \n",
    "                  \"\\n  RE from \", x , \"to\", o, \"is \",(REout if REout!=\"\" else \"-NA-\"),\n",
    "                  \"\\n  old RE from \", i , \"to\", o, \"is \",(REold if REold!=\"\" else \"-NA-\"))\n",
    "            if (REin==null and REout!=\"\"):\n",
    "                REin=\"\"\n",
    "            if (REout==null and REin!=\"\"):\n",
    "                REout=\"\"    \n",
    "            \n",
    "            \n",
    "            table.loc[i,o]= REin + loop + REout  +(\" + \"+ REold if REold!=\"\" else \"\")\n",
    "            #table.loc[i,o]=\" ( \"+(table.loc[i,x]+loop+table.loc[x,o])+ (\" + \"+table.loc[i,o] if table.loc[i,o]==table.loc[i,o] else \"\")+\" ) \"\n",
    "    table = table.drop(x, 1)\n",
    "    table = table.drop(x, 0)\n",
    "    #print(table) "
   ]
  },
  {
   "cell_type": "code",
   "execution_count": 282,
   "metadata": {},
   "outputs": [
    {
     "name": "stdout",
     "output_type": "stream",
     "text": [
      "Regular expression for the given FA is \n",
      " (b + a)b(ab)*aa + a + (b + a)a + (b + a) + λ\n",
      "Note the the this is only one possible RE, results will be different if states are elimimated in different\n"
     ]
    }
   ],
   "source": [
    "print(\"Regular expression for the given FA is \\n\",table.loc[\"NI\",\"NF\"])\n",
    "print(\"Note the the this is only one possible RE, results will be different if states are elimimated in different\")"
   ]
  },
  {
   "cell_type": "code",
   "execution_count": null,
   "metadata": {},
   "outputs": [],
   "source": []
  }
 ],
 "metadata": {
  "kernelspec": {
   "display_name": "Python 3",
   "language": "python",
   "name": "python3"
  },
  "language_info": {
   "codemirror_mode": {
    "name": "ipython",
    "version": 3
   },
   "file_extension": ".py",
   "mimetype": "text/x-python",
   "name": "python",
   "nbconvert_exporter": "python",
   "pygments_lexer": "ipython3",
   "version": "3.5.2"
  }
 },
 "nbformat": 4,
 "nbformat_minor": 2
}
