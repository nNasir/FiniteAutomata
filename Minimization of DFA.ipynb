{
 "cells": [
  {
   "cell_type": "code",
   "execution_count": 14,
   "metadata": {},
   "outputs": [],
   "source": [
    "import numpy as np\n",
    "import pandas as pd"
   ]
  },
  {
   "cell_type": "code",
   "execution_count": 36,
   "metadata": {},
   "outputs": [
    {
     "name": "stdout",
     "output_type": "stream",
     "text": [
      "Given DFA\n",
      "       input_a input_b  isInitial  isFinal\n",
      "states                                    \n",
      "q0          q2      q1       True     True\n",
      "q1          q2      q0      False    False\n",
      "q2          q1      q2      False    False\n",
      "p0          p3      p1      False     True\n",
      "p1          p3      p0      False    False\n",
      "p2          p3      p0      False    False\n",
      "p3          p2      p3      False    False\n"
     ]
    }
   ],
   "source": [
    "# read DFA from csv\n",
    "inputFile= \"C:/Users/Admin/Desktop/FA CSV input files/DFA6.csv\"\n",
    "DFA = pd.read_csv(inputFile, index_col=\"states\") \n",
    "# seting data type\n",
    "DFA.index = DFA.index.map(str)\n",
    "DFA.astype(str)\n",
    "\n",
    "#\n",
    "print(\"Given DFA\")\n",
    "print(DFA)"
   ]
  },
  {
   "cell_type": "code",
   "execution_count": 26,
   "metadata": {},
   "outputs": [
    {
     "name": "stdout",
     "output_type": "stream",
     "text": [
      "finalStates: ['q0', 'p0']\n"
     ]
    }
   ],
   "source": [
    "#identify final state\n",
    "states=DFA.index.values.tolist()\n",
    "finalStates=DFA.loc[DFA[\"isFinal\"]==True].index.values.tolist()\n",
    "#print(states)\n",
    "print(\"finalStates:\", finalStates)"
   ]
  },
  {
   "cell_type": "code",
   "execution_count": 27,
   "metadata": {},
   "outputs": [],
   "source": [
    "#initialize table\n",
    "table= pd.DataFrame(index=set([frozenset([str(a),str(b)]) for a in DFA.index.values.tolist() for b in DFA.index.values.tolist() if a!=b]), columns= [\"eq\"])\n"
   ]
  },
  {
   "cell_type": "code",
   "execution_count": 28,
   "metadata": {},
   "outputs": [
    {
     "name": "stdout",
     "output_type": "stream",
     "text": [
      "Step 0 \n",
      "Following pairs are distinguishable in base case\n",
      "{'q0', 'q1'}\n",
      "{'q0', 'q2'}\n",
      "{'q0', 'p1'}\n",
      "{'p2', 'q0'}\n",
      "{'q0', 'p3'}\n",
      "{'q1', 'p0'}\n",
      "{'q2', 'p0'}\n",
      "{'p0', 'p1'}\n",
      "{'p2', 'p0'}\n",
      "{'p0', 'p3'}\n"
     ]
    }
   ],
   "source": [
    "# base case\n",
    "table.loc[[frozenset([a,b]) for a in finalStates for b in states if b not in finalStates ]]= 0\n",
    "print(\"Step 0 \\nFollowing pairs are distinguishable in base case\")\n",
    "print(*[set([a,b]) for a in finalStates for b in states if b not in finalStates ], sep=\"\\n\")\n"
   ]
  },
  {
   "cell_type": "code",
   "execution_count": 29,
   "metadata": {},
   "outputs": [
    {
     "name": "stdout",
     "output_type": "stream",
     "text": [
      "Step 1\n",
      "Following pairs are distinguishable due to input_a at this step\n",
      "\n",
      "Following pairs are distinguishable due to input_b at this step\n",
      "{'p2', 'p3'} as tran({'p2', 'p3'} , input_b)= {p0 , p3}\n",
      "{'q1', 'p3'} as tran({'q1', 'p3'} , input_b)= {q0 , p3}\n",
      "{'p3', 'p1'} as tran({'p3', 'p1'} , input_b)= {p3 , p0}\n",
      "{'q2', 'q1'} as tran({'q2', 'q1'} , input_b)= {q2 , q0}\n",
      "{'q2', 'p1'} as tran({'q2', 'p1'} , input_b)= {q2 , p0}\n",
      "{'p2', 'q2'} as tran({'p2', 'q2'} , input_b)= {p0 , q2}\n",
      "Step 2\n",
      "Following pairs are distinguishable due to input_a at this step\n",
      "\n",
      "Following pairs are distinguishable due to input_b at this step\n",
      "\n"
     ]
    }
   ],
   "source": [
    "keepgoing=True\n",
    "iteration=1\n",
    "while keepgoing:\n",
    "    print(\"Step\",iteration)\n",
    "    symbols= [x for x in list(DFA.columns) if x.find(\"input\")!=-1]\n",
    "    #print([x for x in table[table['eq'].isnull()].index.values.tolist()])\n",
    "    #print()\n",
    "    pairstoupdate=[]\n",
    "    \n",
    "    for s in symbols:\n",
    "        #print(s)\n",
    "        pairstoupdate=pairstoupdate+[ frozenset(list(x))\n",
    "               for x in table[table['eq'].isnull()].index.values.tolist()\n",
    "               if DFA.loc[[list(x)[0]],s].values[0]!=DFA.loc[[list(x)[1]],s].values[0]\n",
    "               and table.loc[[frozenset((str(DFA.loc[[list(x)[0]],s].values[0]),str(DFA.loc[[list(x)[1]],s].values[0])))], \"eq\"].values[0] >=0\n",
    "\n",
    "              ] \n",
    "        print(\"Following pairs are distinguishable due to \"+s +\" at this step\")\n",
    "        print(*[ str(set(x))+ \" as tran(\"+ str(set(x))+\" , \" +s+\")= {\"+str(DFA.loc[[list(x)[0]],s].values[0])\n",
    "               +\" , \"+ str(DFA.loc[[list(x)[1]],s].values[0]) +\"}\" \n",
    "               \n",
    "               for x in table[table['eq'].isnull()].index.values.tolist()\n",
    "               if DFA.loc[[list(x)[0]],s].values[0]!=DFA.loc[[list(x)[1]],s].values[0]\n",
    "               and table.loc[[frozenset((str(DFA.loc[[list(x)[0]],s].values[0]),str(DFA.loc[[list(x)[1]],s].values[0])))], \"eq\"].values[0] >=0\n",
    "\n",
    "              ],sep='\\n')\n",
    "    \n",
    "    if len(pairstoupdate)==0:\n",
    "        break\n",
    "    table.loc[pairstoupdate]= iteration\n",
    "    iteration=iteration+1\n",
    "#print(table)\n",
    "\n",
    "    "
   ]
  },
  {
   "cell_type": "code",
   "execution_count": 30,
   "metadata": {},
   "outputs": [
    {
     "name": "stdout",
     "output_type": "stream",
     "text": [
      "table\n",
      "q1 [0]\n",
      "q2 [0, 1]\n",
      "p0 ['', 0, 0]\n",
      "p1 [0, '', 1, 0]\n",
      "p2 [0, '', 1, 0, '']\n",
      "p3 [0, 1, '', 0, 1, 1]\n",
      "['q0', 'q1', 'q2', 'p0', 'p1', 'p2']\n",
      "\n",
      "Following states are equivalent\n"
     ]
    },
    {
     "data": {
      "text/plain": [
       "[{'p0', 'q0'}, {'p2', 'q1'}, {'p1', 'q1'}, {'p3', 'q2'}, {'p1', 'p2'}]"
      ]
     },
     "execution_count": 30,
     "metadata": {},
     "output_type": "execute_result"
    }
   ],
   "source": [
    "# print table\n",
    "print(\"table\")\n",
    "for i in range (1,len(DFA.index.values)):\n",
    "    print(DFA.index.values[i],[x if x>-1 else \"\"  for x in  table.loc[[frozenset([x,DFA.index.values[i]]) for x in DFA.index.values[range(0,i)]], \"eq\"].values.tolist()])\n",
    " \n",
    "print(states[0:len(states)-1])\n",
    "\n",
    "# print all equivalent states\n",
    "print(\"\\nFollowing states are equivalent\")\n",
    "[set(x) for x in table[table[\"eq\"].isnull()].index.values.tolist()]"
   ]
  },
  {
   "cell_type": "code",
   "execution_count": 31,
   "metadata": {
    "scrolled": true
   },
   "outputs": [],
   "source": [
    "#define states of mimibal DFA by merging equivalent states\n",
    "newStates=[] # a list of sets\n",
    "oldStates=states.copy()\n",
    "\n",
    "for x in  table[table[\"eq\"].isnull()].index.values.tolist():\n",
    "    \n",
    "    temp=\"\"\n",
    "    \n",
    "    p=list(x)[0]\n",
    "    q=list(x)[1]\n",
    "    # if both are in the list\n",
    "    if p in oldStates and q in oldStates: \n",
    "        temp=str(q)+\" \"+str(list(x)[0])\n",
    "        \n",
    "        del oldStates[oldStates.index(list(x)[0])]\n",
    "        del oldStates[oldStates.index(q)]\n",
    "        newStates.insert(1,temp.strip())\n",
    "        \n",
    "        \n",
    "    # if 1st in in list and 2nd is not    \n",
    "    \n",
    "    if p in oldStates and q not in oldStates: \n",
    "        # find 2nd in new list\n",
    "        indx= newStates.index([x for x in newStates if x.find(q)!=-1][0])\n",
    "        # merge this in the new list \n",
    "        temp= newStates[indx]\n",
    "        temp= temp+\" \"+str(p) \n",
    "        #delete 1st from old list\n",
    "        del oldStates[oldStates.index(p)]\n",
    "        # delete previous state from newStates\n",
    "        del newStates[indx]\n",
    "        newStates.insert(1,temp.strip())\n",
    "        \n",
    "   # if 2ndin in list and 2nd is not    \n",
    "    if p not in oldStates and q  in oldStates: \n",
    "        # find 1st in new list \n",
    "        indx= newStates.index([x for x in newStates if x.find(p)!=-1][0])\n",
    "        # merge this in the new list \n",
    "        temp= newStates[indx]\n",
    "        temp= temp+\" \"+str(q) \n",
    "        #delete 2nd from old list\n",
    "        del oldStates[oldStates.index(q)]\n",
    "        del newStates[indx]\n",
    "        newStates.insert(1,temp.strip())\n",
    "   \n",
    "newStates=newStates+oldStates\n",
    "#print(\"newStates:\",newStates)\n",
    "\n",
    "\n"
   ]
  },
  {
   "cell_type": "code",
   "execution_count": 32,
   "metadata": {},
   "outputs": [],
   "source": [
    "# creating minimal DFA is pandas dataframe and finding transitions for new states \n",
    "mDFA= pd.DataFrame(index=newStates, columns= list(DFA.columns))\n",
    "\n",
    "    #print(s)\n",
    "for x in newStates:  \n",
    "    #print(\"state:\",x)      \n",
    "    outputstate=str(DFA.loc[x.split()[0], s])\n",
    "    #print(\"output state:\",outputstate)        \n",
    "    out= [x for x in newStates if x.find(outputstate)!=-1][0]\n",
    "    #print (out)\n",
    "    mDFA.loc[x, s]= out\n",
    "    #print(mDFA.loc[x])\n",
    "        \n",
    "#print(mDFA)"
   ]
  },
  {
   "cell_type": "code",
   "execution_count": 33,
   "metadata": {},
   "outputs": [],
   "source": [
    "#set initial states\n",
    "intialState=DFA.loc[DFA[\"isInitial\"]==True].index.values[0]\n",
    "#print(intialState)\n",
    "newIniS= [x for x in newStates if x.find(intialState)!=-1][0]\n",
    "#print(newIniS)\n",
    "mDFA.loc[newIniS, \"isInitial\"]= True\n",
    "\n",
    "\n",
    "# mark finalstates\n",
    "newFinalStates= [x for x in newStates if len(set(finalStates).intersection(set(x.split())))>0]\n",
    "\n",
    "mDFA.loc[newFinalStates, \"isFinal\"]= True\n",
    "#print(mDFA)"
   ]
  },
  {
   "cell_type": "code",
   "execution_count": 34,
   "metadata": {},
   "outputs": [
    {
     "name": "stdout",
     "output_type": "stream",
     "text": [
      "minimizaed DFA\n",
      "         input_a   input_b isInitial isFinal\n",
      "p0 q0        NaN  q1 p2 p1      True    True\n",
      "p3 q2        NaN     p3 q2       NaN     NaN\n",
      "q1 p2 p1     NaN     p0 q0       NaN     NaN\n"
     ]
    }
   ],
   "source": [
    "# print output\n",
    "print(\"minimized DFA\")\n",
    "print(mDFA)"
   ]
  },
  {
   "cell_type": "code",
   "execution_count": null,
   "metadata": {},
   "outputs": [],
   "source": []
  }
 ],
 "metadata": {
  "kernelspec": {
   "display_name": "Python 3",
   "language": "python",
   "name": "python3"
  },
  "language_info": {
   "codemirror_mode": {
    "name": "ipython",
    "version": 3
   },
   "file_extension": ".py",
   "mimetype": "text/x-python",
   "name": "python",
   "nbconvert_exporter": "python",
   "pygments_lexer": "ipython3",
   "version": "3.5.2"
  }
 },
 "nbformat": 4,
 "nbformat_minor": 2
}
