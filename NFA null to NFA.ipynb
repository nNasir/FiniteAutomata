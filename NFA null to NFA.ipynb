{
 "cells": [
  {
   "cell_type": "code",
   "execution_count": null,
   "metadata": {},
   "outputs": [],
   "source": [
    "import numpy as np\n",
    "import pandas as pd\n"
   ]
  },
  {
   "cell_type": "code",
   "execution_count": null,
   "metadata": {},
   "outputs": [],
   "source": [
    "#read NFA-null from csv\n",
    "inputFile=\"C:/Users/Admin/Desktop/FA CSV input files/NFANull.csv\"\n",
    "NFAnull = pd.read_csv(inputFile, index_col=\"states\",dtype='str') \n",
    "NFAnull.index = NFAnull.index.map(str)\n",
    "\n",
    "# convert data to appropriate type\n",
    "NFAnull.isInitial = NFAnull[\"isInitial\"].map({'FALSE':False, 'TRUE':True}) # bool\n",
    "NFAnull.isFinal = NFAnull[\"isFinal\"].map({'FALSE':False, 'TRUE':True}) # bool\n",
    "# convert string transitions to sets.\n",
    "for s in [x for x in list(NFAnull.columns) if x.find(\"input\")!=-1]: \n",
    "    NFAnull[s]=[set(x.split(\",\")) if x==x else set() for x in NFAnull[s]]\n",
    "print(NFAnull)\n",
    "\n",
    "# find intial state, final state and symbols\n",
    "q0= NFAnull.loc[NFAnull[\"isInitial\"]==True].index.values[0]\n",
    "print(\"inital State of NFAnull=\",q0)\n",
    "finalStates=set(NFAnull.loc[NFAnull[\"isFinal\"]==True].index.values.tolist())\n",
    "print(\"final states: \", finalStates)\n",
    "symbols= [x for x in list(NFAnull.columns) if x.find(\"input\")!=-1 and x!='input_null']\n",
    "print(\"symbols: \", symbols) \n",
    "\n"
   ]
  },
  {
   "cell_type": "code",
   "execution_count": null,
   "metadata": {},
   "outputs": [],
   "source": [
    "# Null closure function of set state/ or single state\n",
    "def nullclosure(states, NFANull):\n",
    "    nullClosure=set()\n",
    "    # add given set of single state to queue\n",
    "    Queue= list(states)\n",
    "    while len(Queue)>0:        \n",
    "        state=Queue.pop() # take one state out of queue\n",
    "        nullClosure.add(state) # add it to null closure\n",
    "        # if their is some statex which can be reached from state add statex to queue.\n",
    "        if(NFANull.loc[str(state), \"input_null\"]==NFANull.loc[str(state), \"input_null\"]):\n",
    "                Queue= Queue+ list(NFANull.loc[str(state), \"input_null\"])\n",
    "    return nullClosure  "
   ]
  },
  {
   "cell_type": "code",
   "execution_count": null,
   "metadata": {
    "scrolled": true
   },
   "outputs": [],
   "source": [
    "# evaluate null closure of all states in NFAnull,add to one column \n",
    "NFAnull[\"NClsr\"] = [nullclosure(x,NFAnull) for x in NFAnull.index]"
   ]
  },
  {
   "cell_type": "code",
   "execution_count": null,
   "metadata": {},
   "outputs": [],
   "source": [
    "# Create and NFA\n",
    "NFA=pd.DataFrame(index=NFAnull.index ,columns= symbols+ [\"isInitial\", \"isFinal\"])\n",
    "\n",
    "#set transitions for each symbol\n",
    "for s in symbols:\n",
    "    NFA[s]= NFAnull[\"NClsr\"] # first null closure\n",
    "    # transitions\n",
    "    NFA[s]= [set.union(*[NFAnull.loc[y,s] for y in x]) for x in NFA[s]]\n",
    "    # 2nd null closure\n",
    "    NFA[s]=[ nullclosure(x, NFAnull) for x in NFA[s] ]"
   ]
  },
  {
   "cell_type": "code",
   "execution_count": null,
   "metadata": {},
   "outputs": [],
   "source": [
    "# set final and intials state\n",
    "NFA.loc[q0, \"isInitial\"]= True\n",
    "# set final state\n",
    "NFA.loc[list(finalStates), \"isFinal\"]= True\n",
    "if len(NFAnull.loc[q0,\"NClsr\"].intersection(finalStates))>0:\n",
    "    NFA.loc[q0, \"isFinal\"]=True"
   ]
  },
  {
   "cell_type": "code",
   "execution_count": null,
   "metadata": {},
   "outputs": [],
   "source": [
    "print(\"Given NFA Null \\n\")\n",
    "print(NFAnull)\n",
    "print(\"\\n\\nCorresponding  NFA  \\n\")\n",
    "print(NFA)"
   ]
  },
  {
   "cell_type": "code",
   "execution_count": null,
   "metadata": {},
   "outputs": [],
   "source": []
  }
 ],
 "metadata": {
  "kernelspec": {
   "display_name": "Python 3",
   "language": "python",
   "name": "python3"
  },
  "language_info": {
   "codemirror_mode": {
    "name": "ipython",
    "version": 3
   },
   "file_extension": ".py",
   "mimetype": "text/x-python",
   "name": "python",
   "nbconvert_exporter": "python",
   "pygments_lexer": "ipython3",
   "version": "3.5.2"
  }
 },
 "nbformat": 4,
 "nbformat_minor": 2
}
